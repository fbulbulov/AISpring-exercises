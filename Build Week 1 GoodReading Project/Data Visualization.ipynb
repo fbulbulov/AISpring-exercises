{
 "cells": [
  {
   "cell_type": "code",
   "execution_count": 56,
   "metadata": {},
   "outputs": [],
   "source": [
    "import pandas as pd\n",
    "import matplotlib.pyplot as plt\n",
    "import seaborn as sns\n",
    "import numpy as np\n",
    "\n",
    "df = pd.read_csv(\"preprocess_complete.csv\")"
   ]
  },
  {
   "cell_type": "code",
   "execution_count": 58,
   "metadata": {},
   "outputs": [
    {
     "data": {
      "text/html": [
       "<div>\n",
       "<style scoped>\n",
       "    .dataframe tbody tr th:only-of-type {\n",
       "        vertical-align: middle;\n",
       "    }\n",
       "\n",
       "    .dataframe tbody tr th {\n",
       "        vertical-align: top;\n",
       "    }\n",
       "\n",
       "    .dataframe thead th {\n",
       "        text-align: right;\n",
       "    }\n",
       "</style>\n",
       "<table border=\"1\" class=\"dataframe\">\n",
       "  <thead>\n",
       "    <tr style=\"text-align: right;\">\n",
       "      <th></th>\n",
       "      <th>url</th>\n",
       "      <th>book_id</th>\n",
       "      <th>title</th>\n",
       "      <th>award_count</th>\n",
       "      <th>author</th>\n",
       "      <th>avg_rating</th>\n",
       "      <th>num_reviews</th>\n",
       "      <th>num_ratings</th>\n",
       "      <th>num_pages</th>\n",
       "      <th>original_publish_year</th>\n",
       "      <th>series</th>\n",
       "      <th>genres</th>\n",
       "      <th>awards</th>\n",
       "      <th>place</th>\n",
       "    </tr>\n",
       "  </thead>\n",
       "  <tbody>\n",
       "    <tr>\n",
       "      <th>0</th>\n",
       "      <td>https://www.goodreads.com/book/show/2767052-th...</td>\n",
       "      <td>2767052.0</td>\n",
       "      <td>The Hunger Games</td>\n",
       "      <td>41</td>\n",
       "      <td>Suzanne Collins</td>\n",
       "      <td>4.32</td>\n",
       "      <td>6684784.0</td>\n",
       "      <td>6684784.0</td>\n",
       "      <td>374.0</td>\n",
       "      <td>2008.0</td>\n",
       "      <td>True</td>\n",
       "      <td>Young Adult, Fiction, Science Fiction, Dystopi...</td>\n",
       "      <td>Locus Award Nominee for Best Young Adult Book ...</td>\n",
       "      <td>District 12, Panem, Capitol, Panem, Panem</td>\n",
       "    </tr>\n",
       "    <tr>\n",
       "      <th>1</th>\n",
       "      <td>https://www.goodreads.com/book/show/2.Harry_Po...</td>\n",
       "      <td>2.0</td>\n",
       "      <td>Harry Potter and the Order of the Phoenix</td>\n",
       "      <td>9</td>\n",
       "      <td>J.K. Rowling</td>\n",
       "      <td>4.50</td>\n",
       "      <td>2653089.0</td>\n",
       "      <td>2653089.0</td>\n",
       "      <td>870.0</td>\n",
       "      <td>2003.0</td>\n",
       "      <td>True</td>\n",
       "      <td>Fantasy, Young Adult, Fiction, Fantasy, Magic,...</td>\n",
       "      <td>Bram Stoker Award for Works for Young Readers ...</td>\n",
       "      <td>Hogwarts School of Witchcraft and Wizardry, Lo...</td>\n",
       "    </tr>\n",
       "    <tr>\n",
       "      <th>2</th>\n",
       "      <td>https://www.goodreads.com/book/show/2657.To_Ki...</td>\n",
       "      <td>2657.0</td>\n",
       "      <td>To Kill a Mockingbird</td>\n",
       "      <td>4</td>\n",
       "      <td>Harper Lee</td>\n",
       "      <td>4.28</td>\n",
       "      <td>4748049.0</td>\n",
       "      <td>4748049.0</td>\n",
       "      <td>324.0</td>\n",
       "      <td>1960.0</td>\n",
       "      <td>False</td>\n",
       "      <td>Classics, Fiction, Historical, Historical Fict...</td>\n",
       "      <td>Pulitzer Prize for Fiction (1961), Audie Award...</td>\n",
       "      <td>Maycomb, Alabama, Alabama</td>\n",
       "    </tr>\n",
       "    <tr>\n",
       "      <th>3</th>\n",
       "      <td>https://www.goodreads.com/book/show/1885.Pride...</td>\n",
       "      <td>1885.0</td>\n",
       "      <td>Pride and Prejudice</td>\n",
       "      <td>0</td>\n",
       "      <td>Jane Austen</td>\n",
       "      <td>4.27</td>\n",
       "      <td>3185657.0</td>\n",
       "      <td>3185657.0</td>\n",
       "      <td>279.0</td>\n",
       "      <td>1813.0</td>\n",
       "      <td>False</td>\n",
       "      <td>Classics, Fiction, Romance, Historical, Histor...</td>\n",
       "      <td>NaN</td>\n",
       "      <td>United Kingdom, Derbyshire, England, England, ...</td>\n",
       "    </tr>\n",
       "    <tr>\n",
       "      <th>4</th>\n",
       "      <td>https://www.goodreads.com/book/show/41865.Twil...</td>\n",
       "      <td>41865.0</td>\n",
       "      <td>Twilight</td>\n",
       "      <td>25</td>\n",
       "      <td>Stephenie Meyer</td>\n",
       "      <td>3.61</td>\n",
       "      <td>5205804.0</td>\n",
       "      <td>5205804.0</td>\n",
       "      <td>501.0</td>\n",
       "      <td>2005.0</td>\n",
       "      <td>True</td>\n",
       "      <td>Young Adult, Fantasy, Romance, Fiction, Parano...</td>\n",
       "      <td>Georgia Peach Book Award (2007), Buxtehuder Bu...</td>\n",
       "      <td>Forks, Washington, Phoenix, Arizona, Washingto...</td>\n",
       "    </tr>\n",
       "  </tbody>\n",
       "</table>\n",
       "</div>"
      ],
      "text/plain": [
       "                                                 url    book_id  \\\n",
       "0  https://www.goodreads.com/book/show/2767052-th...  2767052.0   \n",
       "1  https://www.goodreads.com/book/show/2.Harry_Po...        2.0   \n",
       "2  https://www.goodreads.com/book/show/2657.To_Ki...     2657.0   \n",
       "3  https://www.goodreads.com/book/show/1885.Pride...     1885.0   \n",
       "4  https://www.goodreads.com/book/show/41865.Twil...    41865.0   \n",
       "\n",
       "                                       title  award_count           author  \\\n",
       "0                           The Hunger Games           41  Suzanne Collins   \n",
       "1  Harry Potter and the Order of the Phoenix            9     J.K. Rowling   \n",
       "2                      To Kill a Mockingbird            4       Harper Lee   \n",
       "3                        Pride and Prejudice            0      Jane Austen   \n",
       "4                                   Twilight           25  Stephenie Meyer   \n",
       "\n",
       "   avg_rating  num_reviews  num_ratings  num_pages  original_publish_year  \\\n",
       "0        4.32    6684784.0    6684784.0      374.0                 2008.0   \n",
       "1        4.50    2653089.0    2653089.0      870.0                 2003.0   \n",
       "2        4.28    4748049.0    4748049.0      324.0                 1960.0   \n",
       "3        4.27    3185657.0    3185657.0      279.0                 1813.0   \n",
       "4        3.61    5205804.0    5205804.0      501.0                 2005.0   \n",
       "\n",
       "   series                                             genres  \\\n",
       "0    True  Young Adult, Fiction, Science Fiction, Dystopi...   \n",
       "1    True  Fantasy, Young Adult, Fiction, Fantasy, Magic,...   \n",
       "2   False  Classics, Fiction, Historical, Historical Fict...   \n",
       "3   False  Classics, Fiction, Romance, Historical, Histor...   \n",
       "4    True  Young Adult, Fantasy, Romance, Fiction, Parano...   \n",
       "\n",
       "                                              awards  \\\n",
       "0  Locus Award Nominee for Best Young Adult Book ...   \n",
       "1  Bram Stoker Award for Works for Young Readers ...   \n",
       "2  Pulitzer Prize for Fiction (1961), Audie Award...   \n",
       "3                                                NaN   \n",
       "4  Georgia Peach Book Award (2007), Buxtehuder Bu...   \n",
       "\n",
       "                                               place  \n",
       "0          District 12, Panem, Capitol, Panem, Panem  \n",
       "1  Hogwarts School of Witchcraft and Wizardry, Lo...  \n",
       "2                          Maycomb, Alabama, Alabama  \n",
       "3  United Kingdom, Derbyshire, England, England, ...  \n",
       "4  Forks, Washington, Phoenix, Arizona, Washingto...  "
      ]
     },
     "execution_count": 58,
     "metadata": {},
     "output_type": "execute_result"
    }
   ],
   "source": [
    "data.head()"
   ]
  },
  {
   "cell_type": "code",
   "execution_count": 59,
   "metadata": {
    "scrolled": true
   },
   "outputs": [],
   "source": [
    "#The most reviewed books \n",
    "mostly_reviewed = df.sort_values(by='num_reviews', ascending=False) # Sorting by number of reviews\n",
    "mostly_reviewed = mostly_reviewed[['title','num_reviews']] # Selecting just the columns we want\n",
    "mostly_reviewed = mostly_reviewed.head(15) # Choosing only the top 10 books"
   ]
  },
  {
   "cell_type": "code",
   "execution_count": 60,
   "metadata": {},
   "outputs": [
    {
     "data": {
      "image/png": "[encoded data removed]",
      "text/plain": [
       "<Figure size 864x360 with 1 Axes>"
      ]
     },
     "metadata": {},
     "output_type": "display_data"
    }
   ],
   "source": [
    "# The 15 mostly reviewed books\n",
    "plt.figure(figsize=(12,5))\n",
    "sns.barplot(y='title', x='num_reviews', data = mostly_reviewed, palette=\"tab10\")\n",
    "plt.title('15 Most Reviewed Books', fontsize='20')\n",
    "plt.xlabel('Number of Reviews (in mln.)')\n",
    "plt.ylabel('Book Title')\n",
    "\n",
    "plt.show()"
   ]
  },
  {
   "cell_type": "code",
   "execution_count": 61,
   "metadata": {},
   "outputs": [
    {
     "name": "stdout",
     "output_type": "stream",
     "text": [
      "Collecting sweetviz\n",
      "  Using cached sweetviz-2.1.0-py3-none-any.whl (15.1 MB)\n",
      "Note: you may need to restart the kernel to use updated packages.Collecting importlib-resources>=1.2.0\n",
      "  Using cached importlib_resources-5.1.2-py3-none-any.whl (25 kB)\n",
      "\n",
      "Requirement already satisfied: numpy>=1.16.0 in c:\\anaconda\\lib\\site-packages (from sweetviz) (1.19.2)\n",
      "Requirement already satisfied: scipy>=1.3.2 in c:\\anaconda\\lib\\site-packages (from sweetviz) (1.5.2)\n",
      "Requirement already satisfied: tqdm>=4.43.0 in c:\\anaconda\\lib\\site-packages (from sweetviz) (4.50.2)\n",
      "Requirement already satisfied: matplotlib>=3.1.3 in c:\\anaconda\\lib\\site-packages (from sweetviz) (3.3.2)\n",
      "Requirement already satisfied: pandas!=1.0.0,!=1.0.1,!=1.0.2,>=0.25.3 in c:\\anaconda\\lib\\site-packages (from sweetviz) (1.1.3)\n",
      "Requirement already satisfied: jinja2>=2.11.1 in c:\\anaconda\\lib\\site-packages (from sweetviz) (2.11.2)\n",
      "Requirement already satisfied: python-dateutil>=2.1 in c:\\anaconda\\lib\\site-packages (from matplotlib>=3.1.3->sweetviz) (2.8.1)\n",
      "Requirement already satisfied: cycler>=0.10 in c:\\anaconda\\lib\\site-packages (from matplotlib>=3.1.3->sweetviz) (0.10.0)\n",
      "Requirement already satisfied: certifi>=2020.06.20 in c:\\anaconda\\lib\\site-packages (from matplotlib>=3.1.3->sweetviz) (2020.6.20)\n",
      "Requirement already satisfied: pyparsing!=2.0.4,!=2.1.2,!=2.1.6,>=2.0.3 in c:\\anaconda\\lib\\site-packages (from matplotlib>=3.1.3->sweetviz) (2.4.7)\n",
      "Requirement already satisfied: pillow>=6.2.0 in c:\\anaconda\\lib\\site-packages (from matplotlib>=3.1.3->sweetviz) (8.0.1)\n",
      "Requirement already satisfied: kiwisolver>=1.0.1 in c:\\anaconda\\lib\\site-packages (from matplotlib>=3.1.3->sweetviz) (1.3.0)\n",
      "Requirement already satisfied: pytz>=2017.2 in c:\\anaconda\\lib\\site-packages (from pandas!=1.0.0,!=1.0.1,!=1.0.2,>=0.25.3->sweetviz) (2020.1)\n",
      "Requirement already satisfied: MarkupSafe>=0.23 in c:\\anaconda\\lib\\site-packages (from jinja2>=2.11.1->sweetviz) (1.1.1)\n",
      "Requirement already satisfied: six>=1.5 in c:\\anaconda\\lib\\site-packages (from python-dateutil>=2.1->matplotlib>=3.1.3->sweetviz) (1.15.0)\n",
      "Installing collected packages: importlib-resources, sweetviz\n",
      "Successfully installed importlib-resources-5.1.2 sweetviz-2.1.0\n"
     ]
    }
   ],
   "source": [
    "pip install sweetviz"
   ]
  },
  {
   "cell_type": "code",
   "execution_count": 70,
   "metadata": {},
   "outputs": [],
   "source": [
    "import sweetviz as sv"
   ]
  },
  {
   "cell_type": "code",
   "execution_count": 67,
   "metadata": {
    "scrolled": true
   },
   "outputs": [],
   "source": [
    "x=df.drop('title',axis=1)\n",
    "y=df['title']"
   ]
  },
  {
   "cell_type": "code",
   "execution_count": 73,
   "metadata": {},
   "outputs": [
    {
     "data": {
      "application/vnd.jupyter.widget-view+json": {
       "model_id": "230a7eb679fa4fd69610d52ba7a3e008",
       "version_major": 2,
       "version_minor": 0
      },
      "text/plain": [
       "HBox(children=(HTML(value=''), FloatProgress(value=0.0, layout=Layout(flex='2'), max=18.0), HTML(value='')), l…"
      ]
     },
     "metadata": {},
     "output_type": "display_data"
    },
    {
     "name": "stdout",
     "output_type": "stream",
     "text": [
      "\n",
      "Report analyze.html was generated.\n"
     ]
    }
   ],
   "source": [
    "analyze_report = sv.analyze(df)\n",
    "analyze_report.show_html('analyze.html', open_browser=False)"
   ]
  },
  {
   "cell_type": "code",
   "execution_count": null,
   "metadata": {},
   "outputs": [],
   "source": []
  }
 ],
 "metadata": {
  "kernelspec": {
   "display_name": "Python 3",
   "language": "python",
   "name": "python3"
  },
  "language_info": {
   "codemirror_mode": {
    "name": "ipython",
    "version": 3
   },
   "file_extension": ".py",
   "mimetype": "text/x-python",
   "name": "python",
   "nbconvert_exporter": "python",
   "pygments_lexer": "ipython3",
   "version": "3.8.5"
  }
 },
 "nbformat": 4,
 "nbformat_minor": 4
}
