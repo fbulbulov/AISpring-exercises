{
 "cells": [
  {
   "cell_type": "code",
   "execution_count": 1,
   "metadata": {},
   "outputs": [],
   "source": [
    "# Import the needed libraries\n",
    "import numpy as np"
   ]
  },
  {
   "cell_type": "markdown",
   "metadata": {},
   "source": [
    "**13. Create a 10x10 array with random values and find the minimum and maximum values**"
   ]
  },
  {
   "cell_type": "code",
   "execution_count": 20,
   "metadata": {},
   "outputs": [
    {
     "name": "stdout",
     "output_type": "stream",
     "text": [
      "Minimum value :0.0061909286280082965, Maximum Value: 0.9991258207940426\n"
     ]
    }
   ],
   "source": [
    "data = np.random.random((10,10))\n",
    "data_min =np.min(data)\n",
    "data_max= np.max(data)\n",
    "print(f\"Minimum value :{data_min}, Maximum Value: {data_max}\")"
   ]
  },
  {
   "cell_type": "markdown",
   "metadata": {},
   "source": [
    "**15. Create a 2d array with 1 on the border and 0 inside**"
   ]
  },
  {
   "cell_type": "code",
   "execution_count": 8,
   "metadata": {},
   "outputs": [
    {
     "name": "stdout",
     "output_type": "stream",
     "text": [
      "Original Array:\n",
      "[[0.60825066 0.52208678 0.40922452 0.54778496 0.31671351 0.09039031\n",
      "  0.85329282 0.198888   0.07303784 0.99832079]\n",
      " [0.75929125 0.93139549 0.44750901 0.57280957 0.70381406 0.84567348\n",
      "  0.24422449 0.57533374 0.37940929 0.12122068]\n",
      " [0.93784818 0.21130941 0.89392928 0.97097573 0.69476856 0.33833418\n",
      "  0.28537852 0.19404637 0.0172217  0.43148583]\n",
      " [0.29366775 0.73082785 0.21854936 0.56312857 0.11665012 0.76969869\n",
      "  0.61769517 0.94228016 0.57486115 0.20788718]\n",
      " [0.08108432 0.79698405 0.64670056 0.67630324 0.80284519 0.38003899\n",
      "  0.19442563 0.41497699 0.13907553 0.7121665 ]\n",
      " [0.32193898 0.87357053 0.93859258 0.1731349  0.21453629 0.34767541\n",
      "  0.79206045 0.88623075 0.22669918 0.99226347]\n",
      " [0.20954579 0.79906116 0.01674808 0.62531941 0.29298891 0.406292\n",
      "  0.24502983 0.52624477 0.56261738 0.45840872]\n",
      " [0.2729931  0.52808397 0.1393393  0.99651121 0.17420095 0.51012587\n",
      "  0.86418087 0.23753211 0.20377954 0.14155821]\n",
      " [0.45680775 0.59406863 0.80721298 0.52314272 0.84913039 0.52745599\n",
      "  0.93691887 0.7850498  0.01707229 0.15007628]\n",
      " [0.14528241 0.06031952 0.71549459 0.70627203 0.42492947 0.61692119\n",
      "  0.53272095 0.3065134  0.46405854 0.52970697]]\n",
      "Minimum and Maximum Values:\n",
      "0.016748084183620726 0.9983207865086194\n"
     ]
    }
   ],
   "source": [
    "import numpy as np\n",
    "x = np.random.random((10,10))\n",
    "print(\"Original Array:\")\n",
    "print(x) \n",
    "xmin, xmax = x.min(), x.max()\n",
    "print(\"Minimum and Maximum Values:\")\n",
    "print(xmin, xmax)"
   ]
  },
  {
   "cell_type": "code",
   "execution_count": null,
   "metadata": {},
   "outputs": [],
   "source": []
  }
 ],
 "metadata": {
  "kernelspec": {
   "display_name": "Python 3",
   "language": "python",
   "name": "python3"
  },
  "language_info": {
   "codemirror_mode": {
    "name": "ipython",
    "version": 3
   },
   "file_extension": ".py",
   "mimetype": "text/x-python",
   "name": "python",
   "nbconvert_exporter": "python",
   "pygments_lexer": "ipython3",
   "version": "3.8.5"
  }
 },
 "nbformat": 4,
 "nbformat_minor": 5
}
